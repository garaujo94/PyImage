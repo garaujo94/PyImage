{
 "cells": [
  {
   "cell_type": "markdown",
   "metadata": {},
   "source": [
    "# Tutorial OpenCV do pyimagemsearch"
   ]
  },
  {
   "cell_type": "markdown",
   "metadata": {},
   "source": [
    "## Manipulação básica de imagens"
   ]
  },
  {
   "cell_type": "code",
   "execution_count": 1,
   "metadata": {},
   "outputs": [
    {
     "name": "stdout",
     "output_type": "stream",
     "text": [
      "Requirement already satisfied: imutils in d:\\anaconda3\\lib\\site-packages (0.5.3)\n"
     ]
    }
   ],
   "source": [
    "!pip install imutils"
   ]
  },
  {
   "cell_type": "code",
   "execution_count": 1,
   "metadata": {},
   "outputs": [],
   "source": [
    "#Importando bibliotecas\n",
    "import imutils\n",
    "import cv2\n",
    "import matplotlib.pyplot as plt\n",
    "\n",
    "%matplotlib inline"
   ]
  },
  {
   "cell_type": "markdown",
   "metadata": {},
   "source": [
    "### Lendo imagem"
   ]
  },
  {
   "cell_type": "code",
   "execution_count": 2,
   "metadata": {},
   "outputs": [
    {
     "name": "stdout",
     "output_type": "stream",
     "text": [
      "width=322, heigth=600, depth=3\n"
     ]
    }
   ],
   "source": [
    "#Lendo a primeira imagem\n",
    "\n",
    "image = cv2.imread('jp.png')\n",
    "(h, w, d) = image.shape\n",
    "print('width={}, heigth={}, depth={}'.format(h,w,d))"
   ]
  },
  {
   "cell_type": "markdown",
   "metadata": {},
   "source": [
    "### Mostrando imagem"
   ]
  },
  {
   "cell_type": "code",
   "execution_count": 3,
   "metadata": {},
   "outputs": [],
   "source": [
    "#Mostrando a imagem\n",
    "cv2.imshow(\"image\", image)\n",
    "cv2.waitKey(0)\n",
    "cv2.destroyAllWindows()\n",
    "#Se eu quisesse mostrar inline, teria que usar o matplotlib"
   ]
  },
  {
   "cell_type": "markdown",
   "metadata": {},
   "source": [
    "### Cortando imagem"
   ]
  },
  {
   "cell_type": "code",
   "execution_count": 4,
   "metadata": {},
   "outputs": [],
   "source": [
    "#Pegando uma fatia da imagem, uma região de interesse\n",
    "roi = image[60:160, 320:420] #os números dos pixeis que eu quero pegar em ambos os eixos\n",
    "cv2.imshow(\"Região de Interesse\", roi)\n",
    "cv2.waitKey(0)\n",
    "cv2.destroyAllWindows()\n"
   ]
  },
  {
   "cell_type": "markdown",
   "metadata": {},
   "source": [
    "### Redimensionando imagem"
   ]
  },
  {
   "cell_type": "code",
   "execution_count": 5,
   "metadata": {},
   "outputs": [],
   "source": [
    "#Redimensionando imagens\n",
    "resized = cv2.resize(image, (200,200))\n",
    "cv2.imshow(\"Imagem redimensionada\", resized)\n",
    "cv2.waitKey(0)\n",
    "cv2.destroyAllWindows()"
   ]
  },
  {
   "cell_type": "code",
   "execution_count": 6,
   "metadata": {},
   "outputs": [],
   "source": [
    "#Redimensionando a imagem mantendo a proporção\n",
    "#já sabendo que eu quero um width de 300px\n",
    "r = 300.0/w\n",
    "dim = (300, int(h*r))\n",
    "resized = cv2.resize(image, dim)\n",
    "cv2.imshow(\"Imagem redimensionada proporcional\", resized)\n",
    "cv2.waitKey(0)\n",
    "cv2.destroyAllWindows()"
   ]
  },
  {
   "cell_type": "code",
   "execution_count": 7,
   "metadata": {},
   "outputs": [],
   "source": [
    "#Tem uma maneira mais fácil de fazer o redimensionamento usando a lib imutils\n",
    "resized = imutils.resize(image, width = 300)\n",
    "cv2.imshow(\"Imagem redimensionada proporcional com imutils\", resized)\n",
    "cv2.waitKey(0)\n",
    "cv2.destroyAllWindows()"
   ]
  },
  {
   "cell_type": "markdown",
   "metadata": {},
   "source": [
    "### Rotacionando imagem"
   ]
  },
  {
   "cell_type": "code",
   "execution_count": 8,
   "metadata": {},
   "outputs": [],
   "source": [
    "#Rotacionando imagens\n",
    "#primeiro, rotacionar a imagem 45 graus no sentido horário usando o opencv\n",
    "#inicialmente temos que calcular onde fica o centro da imagem\n",
    "center = (w // 2, h // 2)\n",
    "M = cv2.getRotationMatrix2D(center, -45, 1.0) #Esse 1.0 é um zoom da imagem, 1.0 mantém o tamanho original\n",
    "rotated = cv2.warpAffine(image, M, (w, h))\n",
    "cv2.imshow(\"Imagem rotacionada\", rotated)\n",
    "cv2.waitKey(0)\n",
    "cv2.destroyAllWindows()"
   ]
  },
  {
   "cell_type": "code",
   "execution_count": 9,
   "metadata": {},
   "outputs": [],
   "source": [
    "#fazendo a mesma coisa com o imutils\n",
    "urotated = imutils.rotate(image, -45)\n",
    "cv2.imshow(\"Imagem rotacionada com imutils\", urotated)\n",
    "cv2.waitKey(0)\n",
    "cv2.destroyAllWindows()"
   ]
  },
  {
   "cell_type": "code",
   "execution_count": 10,
   "metadata": {},
   "outputs": [],
   "source": [
    "#outra maneira de rotacionar a imagem com o imutils sem cortar a imagem\n",
    "urotated = imutils.rotate_bound(image, 45)\n",
    "cv2.imshow(\"Imagem rotacionada com imutils sem cortes\", urotated)\n",
    "cv2.waitKey(0)\n",
    "cv2.destroyAllWindows()"
   ]
  },
  {
   "cell_type": "markdown",
   "metadata": {},
   "source": [
    "### Aplicando blur"
   ]
  },
  {
   "cell_type": "code",
   "execution_count": 11,
   "metadata": {},
   "outputs": [],
   "source": [
    "#Usando o efeito Blur na imagem\n",
    "#Algumas vezes é necessário usar o efeito blur para que o algoritmo possa entender de maneira mais fácil o que está na imagem, pois retira o ruído\n",
    "blurred = cv2.GaussianBlur(image, (11,11), 0) # apply a Gaussian blur with a 11x11 kernel to the image to smooth it\n",
    "cv2.imshow(\"Imagem com blur\", blurred)\n",
    "cv2.waitKey(0)\n",
    "cv2.destroyAllWindows()\n",
    "#Quanto maior o tamanho do kernel, mais o efeito de blur ficará aparente na nova imagem"
   ]
  },
  {
   "cell_type": "markdown",
   "metadata": {},
   "source": [
    "### Desenhar na imagem\n",
    "Toda vez que se desenha na imagem, o arquivo o qual se está fazendo referência é motificado, sendo assim é ideal sempre fazer uma cópia do arquivo antes de qualquer coisa"
   ]
  },
  {
   "cell_type": "code",
   "execution_count": 12,
   "metadata": {},
   "outputs": [],
   "source": [
    "#Retângulo\n",
    "output = image.copy()\n",
    "cv2.rectangle(output, (320, 60), (420, 160), (0, 0, 255), 2) #(320, 60) é o pixel onde o retângulo começa, (420, 160) é onde o retângulo acaba, (0, 0, 255) é a cor da linha no padrão BGR\n",
    "cv2.imshow(\"Rectangle\", output)                              #e por último o valor 2 é a grossura da linha, se o valor fosse negativo, seria um retângulo sólido\n",
    "cv2.waitKey(0)\n",
    "cv2.destroyAllWindows()"
   ]
  },
  {
   "cell_type": "code",
   "execution_count": 13,
   "metadata": {},
   "outputs": [],
   "source": [
    "#Círuclo\n",
    "output = image.copy()\n",
    "cv2.circle(output, (300, 150), 20, (255, 0, 0), -1) #(300, 150) é o centro do círculo, 20 é o raio, o resto é o mesmo padrão do retângulo\n",
    "cv2.imshow(\"Circle\", output)\n",
    "cv2.waitKey(0)\n",
    "cv2.destroyAllWindows()"
   ]
  },
  {
   "cell_type": "code",
   "execution_count": 14,
   "metadata": {},
   "outputs": [],
   "source": [
    "#Linha\n",
    "output = image.copy()\n",
    "cv2.line(output, (60, 20), (400, 200), (0, 0, 255), 5) #mesmos parâmetros do retângulo\n",
    "cv2.imshow(\"Line\", output)\n",
    "cv2.waitKey(0)\n",
    "cv2.destroyAllWindows()"
   ]
  },
  {
   "cell_type": "code",
   "execution_count": 15,
   "metadata": {},
   "outputs": [],
   "source": [
    "#Texto\n",
    "output = image.copy()\n",
    "cv2.putText(output, \"OpenCV + JP\", (10, 25), cv2.FONT_HERSHEY_SIMPLEX, 0.7, (0, 255, 0), 2) #(10, 25) é o ponto de início do texto, 0.7 é o tamanho do fonte, seguidos pela cor e grossura\n",
    "cv2.imshow(\"Texto\", output)\n",
    "cv2.waitKey(0)\n",
    "cv2.destroyAllWindows()"
   ]
  },
  {
   "cell_type": "markdown",
   "metadata": {},
   "source": [
    "_______________________________________________________________________________"
   ]
  },
  {
   "cell_type": "markdown",
   "metadata": {},
   "source": [
    "## Contando objetos"
   ]
  },
  {
   "cell_type": "markdown",
   "metadata": {},
   "source": [
    "### Lendo imagem"
   ]
  },
  {
   "cell_type": "code",
   "execution_count": 16,
   "metadata": {},
   "outputs": [],
   "source": [
    "image = cv2.imread(\"tetris_blocks.png\")\n",
    "cv2.imshow(\"Blocos\", image)\n",
    "cv2.waitKey(0)\n",
    "cv2.destroyAllWindows()"
   ]
  },
  {
   "cell_type": "markdown",
   "metadata": {},
   "source": [
    "### Convertendo cores"
   ]
  },
  {
   "cell_type": "code",
   "execution_count": 17,
   "metadata": {},
   "outputs": [],
   "source": [
    "gray = cv2.cvtColor(image, cv2.COLOR_BGR2GRAY)\n",
    "cv2.imshow(\"Blocos em cinza\", gray)\n",
    "cv2.waitKey(0)\n",
    "cv2.destroyAllWindows()"
   ]
  },
  {
   "cell_type": "markdown",
   "metadata": {},
   "source": [
    "### Detecção de bordas"
   ]
  },
  {
   "cell_type": "code",
   "execution_count": 18,
   "metadata": {},
   "outputs": [],
   "source": [
    "edge = cv2.Canny(gray, 30, 150) #30 e 150 são os valores mínimos e máximos de threshold\n",
    "cv2.imshow(\"Edged\", edge)\n",
    "cv2.waitKey(0)\n",
    "cv2.destroyAllWindows()"
   ]
  },
  {
   "cell_type": "markdown",
   "metadata": {},
   "source": [
    "### Thresholding"
   ]
  },
  {
   "cell_type": "code",
   "execution_count": 19,
   "metadata": {},
   "outputs": [],
   "source": [
    "thresh = cv2.threshold(gray, 225, 255, cv2.THRESH_BINARY_INV)[1] #225 significa que todos os valores menores que 225 virarão 0, e os valores entre 225 e 255 irão para 255\n",
    "cv2.imshow(\"Thresh\", thresh)\n",
    "cv2.waitKey(0)\n",
    "cv2.destroyAllWindows()"
   ]
  },
  {
   "cell_type": "markdown",
   "metadata": {},
   "source": [
    "### Detectando e desenhando os contornos"
   ]
  },
  {
   "cell_type": "code",
   "execution_count": 20,
   "metadata": {},
   "outputs": [],
   "source": [
    "cnts = cv2.findContours(thresh.copy(), cv2.RETR_EXTERNAL, cv2.CHAIN_APPROX_SIMPLE)\n",
    "cnts = imutils.grab_contours(cnts)\n",
    "output = image.copy()\n",
    "\n",
    "for c in cnts:\n",
    "    cv2.drawContours(output, [c], -1, (240, 0, 159), 3)\n",
    "    cv2.imshow(\"Contornos\", output)\n",
    "    cv2.waitKey(0)\n",
    "    cv2.destroyAllWindows()"
   ]
  },
  {
   "cell_type": "markdown",
   "metadata": {},
   "source": [
    "#### Somando com o uso de texto"
   ]
  },
  {
   "cell_type": "code",
   "execution_count": 21,
   "metadata": {},
   "outputs": [],
   "source": [
    "#desenhando o número total de contornos achados\n",
    "text = \"Achei {} contornos!\".format(len(cnts))\n",
    "cv2.putText(output, text, (10, 25),  cv2.FONT_HERSHEY_SIMPLEX, 0.7, (240, 0, 159), 2)\n",
    "cv2.imshow(\"Contorno com plus\", output)\n",
    "cv2.waitKey(0)\n",
    "cv2.destroyAllWindows()"
   ]
  },
  {
   "cell_type": "markdown",
   "metadata": {},
   "source": [
    "### Erosão e dilatações\n",
    "São usados para reduzir ruído em imagens binárias"
   ]
  },
  {
   "cell_type": "code",
   "execution_count": 22,
   "metadata": {},
   "outputs": [],
   "source": [
    "mask = thresh.copy()\n",
    "mask = cv2.erode(mask, None, iterations = 5)\n",
    "cv2.imshow(\"Com erosão\", mask)\n",
    "cv2.waitKey(0)\n",
    "cv2.destroyAllWindows()\n",
    "#Com isso a região de contorno ficou levemente menor"
   ]
  },
  {
   "cell_type": "code",
   "execution_count": 23,
   "metadata": {},
   "outputs": [],
   "source": [
    "mask = thresh.copy()\n",
    "mask = cv2.dilate(mask, None, iterations=5)\n",
    "cv2.imshow(\"Com dilatação\", mask)\n",
    "cv2.waitKey(0)\n",
    "cv2.destroyAllWindows()\n",
    "#Com isso a região de contorno ficou maior"
   ]
  },
  {
   "cell_type": "markdown",
   "metadata": {},
   "source": [
    "#### Porque usar mask? Usando mask, podemos ignorar tudo que não está na nossa área de interesse para trabalhar"
   ]
  },
  {
   "cell_type": "code",
   "execution_count": 24,
   "metadata": {},
   "outputs": [],
   "source": [
    "mask = thresh.copy()\n",
    "output = cv2.bitwise_and(image, image, mask=mask)\n",
    "cv2.imshow(\"Output\", output)\n",
    "cv2.waitKey(0)\n",
    "cv2.destroyAllWindows()"
   ]
  },
  {
   "cell_type": "markdown",
   "metadata": {},
   "source": [
    "_____________________________________________________________________________________________________"
   ]
  },
  {
   "cell_type": "markdown",
   "metadata": {},
   "source": [
    "## Achando extremidades"
   ]
  },
  {
   "cell_type": "code",
   "execution_count": 25,
   "metadata": {},
   "outputs": [],
   "source": [
    "hand = cv2.imread(\"hand_01.png\")\n",
    "cv2.imshow(\"Mão original\", hand)\n",
    "cv2.waitKey(0)\n",
    "cv2.destroyAllWindows()"
   ]
  },
  {
   "cell_type": "code",
   "execution_count": 26,
   "metadata": {},
   "outputs": [],
   "source": [
    "#deixando cinza\n",
    "gray = cv2.cvtColor(hand, cv2.COLOR_BGR2GRAY) \n",
    "cv2.imshow(\"Mão cinza\", gray)\n",
    "cv2.waitKey(0)\n",
    "cv2.destroyAllWindows()"
   ]
  },
  {
   "cell_type": "code",
   "execution_count": 27,
   "metadata": {},
   "outputs": [],
   "source": [
    "#aplicando blur\n",
    "gray = cv2.GaussianBlur(gray, (5,5), 0)\n",
    "cv2.imshow(\"Mão cinza com blur\", gray)\n",
    "cv2.waitKey(0)\n",
    "cv2.destroyAllWindows()"
   ]
  },
  {
   "cell_type": "code",
   "execution_count": 28,
   "metadata": {},
   "outputs": [],
   "source": [
    "#definindo threshoold e fazendo erosão e dilatações para retirar o máximo de ruídos\n",
    "thresh = cv2.threshold(gray, 45,255, cv2.THRESH_BINARY)[1]\n",
    "thresh = cv2.erode(thresh, None, iterations=2)\n",
    "thresh = cv2.dilate(thresh, None, iterations=2)\n",
    "cv2.imshow(\"Mão com threshold, erosão e dilatação\", thresh)\n",
    "cv2.waitKey(0)\n",
    "cv2.destroyAllWindows()"
   ]
  },
  {
   "cell_type": "code",
   "execution_count": 29,
   "metadata": {},
   "outputs": [
    {
     "name": "stdout",
     "output_type": "stream",
     "text": [
      "[[[185  73]]\n",
      "\n",
      " [[184  74]]\n",
      "\n",
      " [[180  74]]\n",
      "\n",
      " ...\n",
      "\n",
      " [[193  74]]\n",
      "\n",
      " [[190  74]]\n",
      "\n",
      " [[189  73]]]\n"
     ]
    }
   ],
   "source": [
    "#achando cortonos e retornando o maior deles\n",
    "cnts = cv2.findContours(thresh.copy(), cv2.RETR_EXTERNAL, cv2.CHAIN_APPROX_SIMPLE)\n",
    "cnts = imutils.grab_contours(cnts)\n",
    "c = max(cnts, key=cv2.contourArea)\n",
    "print(c) #array de pixels"
   ]
  },
  {
   "cell_type": "code",
   "execution_count": 30,
   "metadata": {},
   "outputs": [],
   "source": [
    "#determinando os pontos extremos\n",
    "extLeft = tuple(c[c[:, :, 0].argmin()][0])\n",
    "extRight = tuple(c[c[:, :, 0].argmax()][0])\n",
    "extTop = tuple(c[c[:, :, 1].argmin()][0])\n",
    "extBot = tuple(c[c[:, :, 1].argmax()][0])"
   ]
  },
  {
   "cell_type": "code",
   "execution_count": 31,
   "metadata": {},
   "outputs": [],
   "source": [
    "#Desenhando o contorno da mão e os pontos\n",
    "cv2.drawContours(hand, [c], -1, (0, 255, 255), 2)\n",
    "cv2.circle(hand, extLeft, 8, (0, 0, 255), -1)\n",
    "cv2.circle(hand, extRight, 8, (0, 255, 0), -1)\n",
    "cv2.circle(hand, extTop, 8, (255, 0, 0), -1)\n",
    "cv2.circle(hand, extBot, 8, (255, 255, 0), -1)\n",
    "\n",
    "cv2.imshow(\"Resultado\", hand)\n",
    "cv2.waitKey(0)\n",
    "cv2.destroyAllWindows()"
   ]
  },
  {
   "cell_type": "code",
   "execution_count": 32,
   "metadata": {},
   "outputs": [],
   "source": [
    "def desenharContorno(image):\n",
    "    gray = cv2.cvtColor(image, cv2.COLOR_BGR2GRAY) \n",
    "    thresh = cv2.threshold(gray, 45,255, cv2.THRESH_BINARY)[1]\n",
    "    thresh = cv2.erode(thresh, None, iterations=2)\n",
    "    thresh = cv2.dilate(thresh, None, iterations=2)\n",
    "    cnts = cv2.findContours(thresh.copy(), cv2.RETR_EXTERNAL, cv2.CHAIN_APPROX_SIMPLE)\n",
    "    cnts = imutils.grab_contours(cnts)\n",
    "    c = max(cnts, key=cv2.contourArea)\n",
    "    extLeft = tuple(c[c[:, :, 0].argmin()][0])\n",
    "    extRight = tuple(c[c[:, :, 0].argmax()][0])\n",
    "    extTop = tuple(c[c[:, :, 1].argmin()][0])\n",
    "    extBot = tuple(c[c[:, :, 1].argmax()][0])\n",
    "    cv2.drawContours(hand, [c], -1, (0, 255, 255), 2)\n",
    "    cv2.circle(image, extLeft, 8, (0, 0, 255), -1)\n",
    "    cv2.circle(image, extRight, 8, (0, 255, 0), -1)\n",
    "    cv2.circle(image, extTop, 8, (255, 0, 0), -1)\n",
    "    cv2.circle(image, extBot, 8, (255, 255, 0), -1)\n",
    "\n",
    "    cv2.imshow(\"Resultado\", image)\n",
    "    cv2.waitKey(0)\n",
    "    cv2.destroyAllWindows()"
   ]
  },
  {
   "cell_type": "code",
   "execution_count": 33,
   "metadata": {},
   "outputs": [],
   "source": [
    "hand = cv2.imread(\"hand_02.png\")"
   ]
  },
  {
   "cell_type": "code",
   "execution_count": 34,
   "metadata": {},
   "outputs": [],
   "source": [
    "desenharContorno(hand)"
   ]
  },
  {
   "cell_type": "markdown",
   "metadata": {},
   "source": [
    "---------------------------------------------------------------------------"
   ]
  },
  {
   "cell_type": "markdown",
   "metadata": {},
   "source": [
    "## Mudando perspectiva"
   ]
  },
  {
   "cell_type": "code",
   "execution_count": 35,
   "metadata": {},
   "outputs": [],
   "source": [
    "import numpy as np\n",
    "import cv2"
   ]
  },
  {
   "cell_type": "code",
   "execution_count": 36,
   "metadata": {},
   "outputs": [
    {
     "data": {
      "text/plain": [
       "array([[0., 0.],\n",
       "       [0., 0.],\n",
       "       [0., 0.],\n",
       "       [0., 0.]], dtype=float32)"
      ]
     },
     "execution_count": 36,
     "metadata": {},
     "output_type": "execute_result"
    }
   ],
   "source": [
    "np.zeros((4, 2), dtype = \"float32\")"
   ]
  },
  {
   "cell_type": "code",
   "execution_count": 37,
   "metadata": {},
   "outputs": [],
   "source": [
    "def order_points(pts):\n",
    "    rect = np.zeros((4,2), dtype = \"float32\")\n",
    "    s = pts.sum(axis = 1)\n",
    "    rect[0] = pts[np.argmin(s)]\n",
    "    rect[2] = pts[np.argman(s)]\n",
    "    \n",
    "    diff = np.diff(pts, axis = 1)\n",
    "    rect[1] = pts[np.argmin(diff)]\n",
    "    rect[3] = pts[np.argmax(diff)]\n",
    "    \n",
    "    return rect"
   ]
  },
  {
   "cell_type": "code",
   "execution_count": 38,
   "metadata": {},
   "outputs": [],
   "source": [
    "def four_point_transformation(image, pts):\n",
    "    #obtendo informações da função acima\n",
    "    rect = order_points(pts)\n",
    "    (tl, tr, br, bl) = rect\n",
    "    \n",
    "    #definindo a largura real da imagem usando pitagoras nos pontos de baixo e nos pontos de cima e pegando o maior resultado\n",
    "    widthA = np.sqrt(((br[0] - bl[0])**2) + ((br[1] - bl[1])**2))\n",
    "    widthB = np.sqrt(((tr[0] - tl[0])**2) + ((tr[1] - tl[1])**2))\n",
    "    maxWidth = max(int(widthA), int(widthB))\n",
    "    \n",
    "    #Fazendo o mesmo que foi feito acima, só que agora para pegar a altura real\n",
    "    heightA = np.sqrt(((tr[0] - br[0])**2) + ((tr[1] + br[1])**2))\n",
    "    heightB = np.sqrt(((tl[0] - bl[0])**2) + ((tl[1] + bl[1])**2))\n",
    "    maxHeight = max(int(heightA), int(heightB))\n",
    "    \n",
    "    #agora, definindo ao novos pontos limites da figura que será transformada\n",
    "    dst = np.array(\n",
    "    [0, 0]\n",
    "    [maxWidth - 1, 0]\n",
    "    [maxWidth -1, maxHeight -1]\n",
    "    [0, maxHeight -1], dtype = \"float32\")\n",
    "    \n",
    "    #Computando a mudança de perspectiva e aplicando\n",
    "    M = cv2.getPerspectiveTransform(rect, dst) #primeiro, pontos originais, após, novos pontos de limite\n",
    "    warped = cv2.warpPerspective(image, M, (maxWidth, maxHeight))\n",
    "    \n",
    "    #retornando o resultado da transformação\n",
    "    return warped"
   ]
  },
  {
   "cell_type": "code",
   "execution_count": 39,
   "metadata": {},
   "outputs": [],
   "source": [
    "card = cv2.imread(\"card.png\")\n",
    "card = imutils.resize(card, width=300)"
   ]
  },
  {
   "cell_type": "code",
   "execution_count": 40,
   "metadata": {},
   "outputs": [],
   "source": [
    "cv2.imshow(\"Original\", card)\n",
    "cv2.waitKey(0)\n",
    "cv2.destroyAllWindows()"
   ]
  },
  {
   "cell_type": "code",
   "execution_count": 41,
   "metadata": {},
   "outputs": [],
   "source": [
    "grayCard = cv2.cvtColor(card, cv2.COLOR_BGR2GRAY)\n",
    "cv2.imshow(\"Original\", grayCard)\n",
    "cv2.waitKey(0)\n",
    "cv2.destroyAllWindows()"
   ]
  },
  {
   "cell_type": "code",
   "execution_count": 42,
   "metadata": {},
   "outputs": [],
   "source": [
    "thresh = cv2.threshold(grayCard, 200,255, cv2.THRESH_BINARY)[1]\n",
    "thresh = cv2.erode(thresh, None, iterations=2)\n",
    "thresh = cv2.dilate(thresh, None, iterations=2)\n",
    "cv2.imshow(\"Mão com threshold, erosão e dilatação\", thresh)\n",
    "cv2.waitKey(0)\n",
    "cv2.destroyAllWindows()"
   ]
  },
  {
   "cell_type": "code",
   "execution_count": 43,
   "metadata": {},
   "outputs": [],
   "source": [
    "#achando cortonos e retornando o maior deles\n",
    "cnts = cv2.findContours(thresh.copy(), cv2.RETR_EXTERNAL, cv2.CHAIN_APPROX_SIMPLE)\n",
    "cnts = imutils.grab_contours(cnts)\n",
    "c = max(cnts, key=cv2.contourArea)"
   ]
  },
  {
   "cell_type": "code",
   "execution_count": 44,
   "metadata": {},
   "outputs": [],
   "source": [
    "#determinando os pontos extremos\n",
    "extLeft = tuple(c[c[:, :, 0].argmin()][0])\n",
    "extRight = tuple(c[c[:, :, 0].argmax()][0])\n",
    "extTop = tuple(c[c[:, :, 1].argmin()][0])\n",
    "extBot = tuple(c[c[:, :, 1].argmax()][0])"
   ]
  },
  {
   "cell_type": "code",
   "execution_count": 45,
   "metadata": {},
   "outputs": [],
   "source": [
    "#Desenhando o contorno da mão e os pontos\n",
    "cv2.drawContours(card, [c], -1, (0, 255, 255), 2)\n",
    "cv2.circle(card, extLeft, 8, (0, 0, 255), -1)\n",
    "cv2.circle(card, extRight, 8, (0, 255, 0), -1)\n",
    "cv2.circle(card, extTop, 8, (255, 0, 0), -1)\n",
    "cv2.circle(card, extBot, 8, (255, 255, 0), -1)\n",
    "\n",
    "cv2.imshow(\"Resultado\", card)\n",
    "cv2.waitKey(0)\n",
    "cv2.destroyAllWindows()"
   ]
  },
  {
   "cell_type": "code",
   "execution_count": 46,
   "metadata": {},
   "outputs": [],
   "source": [
    "for c in cnts:\n",
    "    cv2.drawContours(card, [c], -1, (240, 0, 159), 3)\n",
    "    cv2.imshow(\"Contornos\", card)\n",
    "    cv2.waitKey(0)\n",
    "    cv2.destroyAllWindows()"
   ]
  },
  {
   "cell_type": "code",
   "execution_count": 47,
   "metadata": {},
   "outputs": [],
   "source": [
    "desenharContorno(card)"
   ]
  },
  {
   "cell_type": "markdown",
   "metadata": {},
   "source": [
    "#### Não funcionou muito bem, pois a imagem vem com algum problema e não to com muita paciencia de resolver agora"
   ]
  },
  {
   "cell_type": "markdown",
   "metadata": {},
   "source": [
    "-------------------"
   ]
  },
  {
   "cell_type": "markdown",
   "metadata": {},
   "source": [
    "### Scanner de cartão resposta"
   ]
  },
  {
   "cell_type": "code",
   "execution_count": 1,
   "metadata": {},
   "outputs": [],
   "source": [
    "# import the necessary packages\n",
    "from imutils.perspective import four_point_transform\n",
    "from imutils import contours\n",
    "import numpy as np\n",
    "#import argparse\n",
    "import imutils\n",
    "import cv2\n",
    "# construct the argument parse and parse the arguments\n",
    "#ap = argparse.ArgumentParser()\n",
    "#ap.add_argument(\"-i\", \"--image\", required=True,\n",
    "#\thelp=\"path to the input image\")\n",
    "#args = vars(ap.parse_args())\n",
    "# define the answer key which maps the question number\n",
    "# to the correct answer\n",
    "ANSWER_KEY = {0: 1, 1: 4, 2: 0, 3: 3, 4: 1}"
   ]
  },
  {
   "cell_type": "code",
   "execution_count": 2,
   "metadata": {},
   "outputs": [],
   "source": [
    "# load the image, convert it to grayscale, blur it\n",
    "# slightly, then find edges\n",
    "image = cv2.imread('omr_test_01.png')\n",
    "gray = cv2.cvtColor(image, cv2.COLOR_BGR2GRAY)\n",
    "blurred = cv2.GaussianBlur(gray, (5, 5), 0)\n",
    "edged = cv2.Canny(blurred, 75, 200)"
   ]
  },
  {
   "cell_type": "code",
   "execution_count": 3,
   "metadata": {},
   "outputs": [],
   "source": [
    "cv2.imshow(\"Resultado\", edged)\n",
    "cv2.waitKey(0)\n",
    "cv2.destroyAllWindows()"
   ]
  },
  {
   "cell_type": "code",
   "execution_count": 4,
   "metadata": {},
   "outputs": [],
   "source": [
    "# find contours in the edge map, then initialize\n",
    "# the contour that corresponds to the document\n",
    "cnts = cv2.findContours(edged.copy(), cv2.RETR_EXTERNAL,cv2.CHAIN_APPROX_SIMPLE)\n",
    "cnts = imutils.grab_contours(cnts)\n",
    "docCnt = None\n",
    "# ensure that at least one contour was found\n",
    "if len(cnts) > 0:\n",
    "    # sort the contours according to their size in\n",
    "    # descending order\n",
    "    cnts = sorted(cnts, key=cv2.contourArea, reverse=True)\n",
    "    # loop over the sorted contours\n",
    "    for c in cnts:\n",
    "        # approximate the contour\n",
    "        peri = cv2.arcLength(c, True)\n",
    "        approx = cv2.approxPolyDP(c, 0.02 * peri, True)\n",
    "        # if our approximated contour has four points,\n",
    "        # then we can assume we have found the paper\n",
    "        if len(approx) == 4:\n",
    "            docCnt = approx\n",
    "            break"
   ]
  },
  {
   "cell_type": "code",
   "execution_count": 6,
   "metadata": {},
   "outputs": [
    {
     "data": {
      "text/plain": [
       "array([[[ 48,  72,  81],\n",
       "        [ 51,  76,  87],\n",
       "        [ 53,  76,  93],\n",
       "        ...,\n",
       "        [ 61,  88, 104],\n",
       "        [ 62,  88, 103],\n",
       "        [ 60,  89, 103]],\n",
       "\n",
       "       [[ 48,  75,  84],\n",
       "        [ 46,  74,  85],\n",
       "        [ 51,  78,  94],\n",
       "        ...,\n",
       "        [ 62,  89, 104],\n",
       "        [ 59,  86,  99],\n",
       "        [ 56,  84,  99]],\n",
       "\n",
       "       [[ 55,  77,  92],\n",
       "        [ 49,  75,  88],\n",
       "        [ 49,  73,  87],\n",
       "        ...,\n",
       "        [ 57,  84,  98],\n",
       "        [ 65,  94, 104],\n",
       "        [ 65,  95, 107]],\n",
       "\n",
       "       ...,\n",
       "\n",
       "       [[ 44,  69,  83],\n",
       "        [ 44,  72,  84],\n",
       "        [ 50,  76,  87],\n",
       "        ...,\n",
       "        [ 59,  83,  94],\n",
       "        [ 60,  84,  95],\n",
       "        [ 59,  85,  97]],\n",
       "\n",
       "       [[ 49,  73,  87],\n",
       "        [ 43,  69,  84],\n",
       "        [ 42,  67,  82],\n",
       "        ...,\n",
       "        [ 52,  78,  88],\n",
       "        [ 63,  90, 101],\n",
       "        [ 64,  90, 102]],\n",
       "\n",
       "       [[ 45,  68,  76],\n",
       "        [ 48,  73,  88],\n",
       "        [ 42,  67,  84],\n",
       "        ...,\n",
       "        [ 48,  77,  89],\n",
       "        [ 62,  91, 103],\n",
       "        [ 69,  95, 107]]], dtype=uint8)"
      ]
     },
     "execution_count": 6,
     "metadata": {},
     "output_type": "execute_result"
    }
   ],
   "source": [
    "test = image.copy()\n",
    "cv2.drawContours(test,docCnt, -1,  (0, 255, 255), 3)"
   ]
  },
  {
   "cell_type": "code",
   "execution_count": 7,
   "metadata": {},
   "outputs": [],
   "source": [
    "cv2.imshow(\"Resultado\", test)\n",
    "cv2.waitKey(0)\n",
    "cv2.destroyAllWindows()"
   ]
  },
  {
   "cell_type": "code",
   "execution_count": 8,
   "metadata": {},
   "outputs": [],
   "source": [
    "# apply a four point perspective transform to both the\n",
    "# original image and grayscale image to obtain a top-down\n",
    "# birds eye view of the paper\n",
    "paper = four_point_transform(image, docCnt.reshape(4, 2))\n",
    "warped = four_point_transform(gray, docCnt.reshape(4, 2))"
   ]
  },
  {
   "cell_type": "code",
   "execution_count": 9,
   "metadata": {},
   "outputs": [],
   "source": [
    "cv2.imshow(\"Resultado\", paper)\n",
    "cv2.waitKey(0)\n",
    "cv2.destroyAllWindows()\n",
    "\n",
    "cv2.imshow(\"Resultado\", warped)\n",
    "cv2.waitKey(0)\n",
    "cv2.destroyAllWindows()"
   ]
  },
  {
   "cell_type": "code",
   "execution_count": 10,
   "metadata": {},
   "outputs": [],
   "source": [
    "# apply Otsu's thresholding method to binarize the warped\n",
    "# piece of paper\n",
    "thresh = cv2.threshold(warped, 0, 255, cv2.THRESH_BINARY_INV | cv2.THRESH_OTSU)[1]"
   ]
  },
  {
   "cell_type": "code",
   "execution_count": 11,
   "metadata": {},
   "outputs": [],
   "source": [
    "cv2.imshow(\"Resultado\", thresh)\n",
    "cv2.waitKey(0)\n",
    "cv2.destroyAllWindows()"
   ]
  },
  {
   "cell_type": "code",
   "execution_count": 12,
   "metadata": {},
   "outputs": [],
   "source": [
    "# find contours in the thresholded image, then initialize\n",
    "# the list of contours that correspond to questions\n",
    "cnts = cv2.findContours(thresh.copy(), cv2.RETR_EXTERNAL,\n",
    "\tcv2.CHAIN_APPROX_SIMPLE)\n",
    "cnts = imutils.grab_contours(cnts)\n",
    "questionCnts = []\n",
    "# loop over the contours\n",
    "for c in cnts:\n",
    "    # compute the bounding box of the contour, then use the\n",
    "    # bounding box to derive the aspect ratio\n",
    "    (x, y, w, h) = cv2.boundingRect(c)\n",
    "    ar = w / float(h)\n",
    "    # in order to label the contour as a question, region\n",
    "    # should be sufficiently wide, sufficiently tall, and\n",
    "    # have an aspect ratio approximately equal to 1\n",
    "    if w >= 20 and h >= 20 and ar >= 0.9 and ar <= 1.1:\n",
    "        questionCnts.append(c)"
   ]
  },
  {
   "cell_type": "code",
   "execution_count": 13,
   "metadata": {},
   "outputs": [],
   "source": [
    "test = paper.copy()\n",
    "cv2.drawContours(test, questionCnts, -1, (0, 0, 255), 3)\n",
    "cv2.imshow(\"Resultado\", test)\n",
    "cv2.waitKey(0)\n",
    "cv2.destroyAllWindows()"
   ]
  },
  {
   "cell_type": "code",
   "execution_count": 14,
   "metadata": {},
   "outputs": [],
   "source": [
    "# sort the question contours top-to-bottom, then initialize\n",
    "# the total number of correct answers\n",
    "questionCnts = contours.sort_contours(questionCnts,\n",
    "    method=\"top-to-bottom\")[0]\n",
    "correct = 0\n",
    "# each question has 5 possible answers, to loop over the\n",
    "# question in batches of 5\n",
    "for (q, i) in enumerate(np.arange(0, len(questionCnts), 5)):\n",
    "    # sort the contours for the current question from\n",
    "    # left to right, then initialize the index of the\n",
    "    # bubbled answer\n",
    "    cnts = contours.sort_contours(questionCnts[i:i + 5])[0]\n",
    "    bubbled = None\n",
    "    # loop over the sorted contours\n",
    "    for (j, c) in enumerate(cnts):\n",
    "        # construct a mask that reveals only the current\n",
    "        # \"bubble\" for the question\n",
    "        mask = np.zeros(thresh.shape, dtype=\"uint8\")\n",
    "        cv2.drawContours(mask, [c], -1, 255, -1)\n",
    "        # apply the mask to the thresholded image, then\n",
    "        # count the number of non-zero pixels in the\n",
    "        # bubble area\n",
    "        mask = cv2.bitwise_and(thresh, thresh, mask=mask)\n",
    "        total = cv2.countNonZero(mask)\n",
    "        # if the current total has a larger number of total\n",
    "        # non-zero pixels, then we are examining the currently\n",
    "        # bubbled-in answer\n",
    "        if bubbled is None or total > bubbled[0]:\n",
    "            bubbled = (total, j)\n",
    "    # initialize the contour color and the index of the\n",
    "    # *correct* answer\n",
    "    color = (0, 0, 255)\n",
    "    k = ANSWER_KEY[q]\n",
    "    # check to see if the bubbled answer is correct\n",
    "    if k == bubbled[1]:\n",
    "        color = (0, 255, 0)\n",
    "        correct += 1\n",
    "    # draw the outline of the correct answer on the test\n",
    "    cv2.drawContours(paper, [cnts[k]], -1, color, 3)"
   ]
  },
  {
   "cell_type": "code",
   "execution_count": 16,
   "metadata": {},
   "outputs": [
    {
     "name": "stdout",
     "output_type": "stream",
     "text": [
      "[INFO] score: 80.00%\n"
     ]
    }
   ],
   "source": [
    "# grab the test taker\n",
    "score = (correct / 5.0) * 100\n",
    "print(\"[INFO] score: {:.2f}%\".format(score))\n",
    "cv2.putText(paper, \"{:.2f}%\".format(score), (10, 30),\n",
    "    cv2.FONT_HERSHEY_SIMPLEX, 0.9, (0, 0, 255), 2)\n",
    "cv2.imshow(\"Original\", image)\n",
    "cv2.imshow(\"Exam\", paper)\n",
    "cv2.waitKey(0)\n",
    "cv2.destroyAllWindows()"
   ]
  },
  {
   "cell_type": "code",
   "execution_count": null,
   "metadata": {},
   "outputs": [],
   "source": []
  }
 ],
 "metadata": {
  "kernelspec": {
   "display_name": "Python 3",
   "language": "python",
   "name": "python3"
  },
  "language_info": {
   "codemirror_mode": {
    "name": "ipython",
    "version": 3
   },
   "file_extension": ".py",
   "mimetype": "text/x-python",
   "name": "python",
   "nbconvert_exporter": "python",
   "pygments_lexer": "ipython3",
   "version": "3.7.4"
  }
 },
 "nbformat": 4,
 "nbformat_minor": 4
}
